{
  "nbformat": 4,
  "nbformat_minor": 0,
  "metadata": {
    "colab": {
      "provenance": []
    },
    "kernelspec": {
      "name": "python3",
      "display_name": "Python 3"
    },
    "language_info": {
      "name": "python"
    }
  },
  "cells": [
    {
      "cell_type": "markdown",
      "source": [
        "#**Exploração e análise de dados de crédito com SQL**\n",
        "\n",
        "###Os dados:\n",
        "Os dados representam informações de clientes de um banco e contam com as seguintes colunas:\n",
        "\n",
        "*   idade = idade do cliente\n",
        "*   sexo = sexo do cliente (F ou M)\n",
        "*   dependentes = número de dependentes do cliente\n",
        "*   escolaridade = nível de escolaridade do clientes\n",
        "*   salario_anual = faixa salarial do cliente\n",
        "*   tipo_cartao = tipo de cartao do cliente\n",
        "*   qtd_produtos = quantidade de produtos comprados nos últimos 12 meses\n",
        "*   iteracoes_12m = quantidade de iterações/transacoes nos ultimos 12 meses\n",
        "*   meses_inativo_12m = quantidade de meses que o cliente ficou inativo\n",
        "*   limite_credito = limite de credito do cliente\n",
        "*   valor_transacoes_12m = valor das transações dos ultimos 12 meses\n",
        "*   qtd_transacoes_12m = quantidade de transacoes dos ultimos 12 meses\n",
        "\n",
        "A tabela foi criada no AWS Athena junto com o S3 Bucket com uma versão dos dados disponibilizados em: https://github.com/andre-marcos-perez/ebac-course-utils/tree/main/dataset"
      ],
      "metadata": {
        "id": "KXPCv5DO4qQW"
      }
    },
    {
      "cell_type": "markdown",
      "source": [
        "##Exploração dos Dados"
      ],
      "metadata": {
        "id": "FJWrij__H98m"
      }
    },
    {
      "cell_type": "markdown",
      "source": [
        "**Quantos dados temos em nosso banco de dados?**\n",
        "\n",
        "QUERY: SELECT * FROM default.credito\n",
        "\n",
        "**Resultado**: 2.564 linhas\n",
        "\n",
        "**Obs**.: A base de dados vinculada acima contém mais registros do que a seleção atualmente utilizada. Você pode optar por utilizar todos os registros ou apenas uma amostra dos dados. Em geral, quanto maior a quantidade de dados utilizada, mais confiável será a análise!"
      ],
      "metadata": {
        "id": "rVzv9NozIqW2"
      }
    },
    {
      "cell_type": "markdown",
      "source": [
        "**Quais os tipos de cada dado?**\n",
        "\n",
        "QUERY: DESCRIBE credito\n",
        "\n",
        "![](https://github.com/fabioib/Projeto-SQL/blob/main/describe.png?raw=true)\n",
        "\n",
        "Agora que compreendemos os tipos de dados, vamos analisar com mais atenção as variáveis que não são numéricas."
      ],
      "metadata": {
        "id": "E0RacSsyOH2Y"
      }
    },
    {
      "cell_type": "markdown",
      "source": [
        "**Quais são os tipos de estado civil disponíveis no dataset?**\n",
        "\n",
        "Query: SELECT DISTINCT estado_civil FROM credito\n",
        "\n",
        "![](https://github.com/fabioib/Projeto-SQL/blob/main/estadocivil.png?raw=true)\n",
        "\n",
        "Encontramos valores nulos nos dados de estado civil!\n",
        "\n"
      ],
      "metadata": {
        "id": "4HdxaK4gUwZL"
      }
    },
    {
      "cell_type": "markdown",
      "source": [
        "**Quais são os tipos de escolaridade disponíveis no dataset?**\n",
        "\n",
        "Query: SELECT DISTINCT escolaridade FROM credito\n",
        "\n",
        "![](https://github.com/fabioib/Projeto-SQL/blob/main/escolaridade.png?raw=true)\n",
        "\n",
        "\n",
        "Os dados contam com vários níveis de escolaridade e é possível perceber que temos mais valores nulos no dataset."
      ],
      "metadata": {
        "id": "XPrP1acPVFVA"
      }
    },
    {
      "cell_type": "markdown",
      "source": [
        "Vemos que nesse dataset precisa tratar os valores nulos (na)."
      ],
      "metadata": {
        "id": "GbRd2ie5VndP"
      }
    },
    {
      "cell_type": "markdown",
      "source": [
        "##**Análise de Dados**\n",
        "\n",
        "Após explorarmos os dados e identificarmos as informações contidas no nosso banco de dados, podemos proceder com a análise para compreender o que está ocorrendo nos dados.\n",
        "\n",
        " **Qual o salário mais e alto no dataset em relação ao sexo e escolaridade?**\n",
        "\n",
        "**QUERY**: select max (salario_anual) as salario_anual, sexo, escolaridade from credito\n",
        "where salario_anual != 'na' and escolaridade != 'na'\n",
        "group by salario_anual, sexo, escolaridade\n",
        "order by salario_anual asc\n",
        "limit 10\n",
        "![](https://github.com/fabioib/Projeto-SQL/blob/main/salarioanualmax.jpg?raw=true)\n",
        "\n",
        "\n",
        "Analisando os dados, percebemos que os maiores salários são dos indivíduos do sexo masculino e que a escolaridade não influencia nos valores."
      ],
      "metadata": {
        "id": "Kp6pko0LV9vi"
      }
    },
    {
      "cell_type": "markdown",
      "source": [
        "**Nesse banco de dados, quantos clientes são homens e quantos são mulheres?**\n",
        "\n",
        "**Query:** select count(*), sexo from credito group by sexo\n",
        "\n",
        "\n"
      ],
      "metadata": {
        "id": "hAtOiNhVbbcE"
      }
    },
    {
      "cell_type": "markdown",
      "source": [
        "**Neste banco de dados, quem realiza mais transações: homens ou mulheres?**\n",
        "\n",
        "**QUERY:** SELECT sexo, COUNT(*) AS total_transacoes\n",
        "FROM credito\n",
        "WHERE sexo IN ('M', 'F')\n",
        "  AND qtd_transacoes_12m IS NOT NULL\n",
        "GROUP BY sexo;\n",
        "\n",
        "![](https://github.com/fabioib/Projeto-SQL/blob/main/maistransacoes.png?raw=true)\n",
        "\n",
        "![](https://github.com/fabioib/Projeto-SQL/blob/main/graficodetransacoes.png?raw=true)\n",
        "\n",
        "\n",
        "\n",
        "Analisando os dados, percebemos que os homens tem uma quantidade maior de transações feitas.\n"
      ],
      "metadata": {
        "id": "fgtCmPSqB3sr"
      }
    },
    {
      "cell_type": "markdown",
      "source": [
        "**Quais as características dos clientes que possuem os maiores creditos?**\n",
        "\n",
        "**Query:** select max(limite_credito) as limite_credito, escolaridade, tipo_cartao, sexo from credito where escolaridade != 'na' and tipo_cartao != 'na' group by escolaridade, tipo_cartao, sexo order by limite_credito desc limit 10\n",
        "\n",
        "![](https://github.com/fabioib/Projeto-SQL/blob/main/maiorescreditos.png?raw=true)\n",
        "\n",
        "Parece que a escolaridade não tem impacto no limite. O maior limite foi oferecido a um homem sem educação formal. Além disso, o tipo de cartão não parece estar relacionado ao limite. Entre os maiores limites, encontramos clientes com os cartões gold, silver, platinum e blue.\n",
        "\n"
      ],
      "metadata": {
        "id": "JKJcMZTYDxII"
      }
    },
    {
      "cell_type": "markdown",
      "source": [
        "**O salário impacta no limite?**\n",
        "\n",
        "**Query:** select avg(qtd_produtos) as qts_produtos, avg(valor_transacoes_12m) as media_valor_transacoes, avg(limite_credito) as media_limite, sexo, salario_anual from credito where salario_anual != 'na' group by sexo, salario_anual order by avg(valor_transacoes_12m) desc\n",
        "\n",
        "![](https://github.com/fabioib/Projeto-SQL/blob/main/salariolimite.png?raw=true)\n",
        "\n",
        "Sim! As pessoas com salários mais baixos também têm limites de crédito mais baixos!"
      ],
      "metadata": {
        "id": "_KHKt4ieFj6r"
      }
    },
    {
      "cell_type": "markdown",
      "source": [
        "##**Conclusão**\n",
        "\n",
        "Aqui estão alguns insights extraídos do conjunto de dados de crédito:\n",
        "\n",
        "\n",
        "*   A maioria dos clientes tem renda até 40K.\n",
        "*   A maioria dos clientes é do sexo masculino.\n",
        "*   A escolaridade não parece influenciar no limite de crédito nem no tipo de cartão.\n",
        "*   Os clientes com os maiores limites são principalmente homens.\n",
        "*   Os clientes com os menores limites são principalmente mulheres.\n",
        "*   Entre os clientes com os menores limites, não há presença de cartões platinum.\n",
        "*   A faixa salarial tem um impacto direto no limite de crédito.\n",
        "*   Não há clientes do sexo feminino com salário anual acima de 60K.\n",
        "*   Uma exploração mais profunda dos dados pode explicar por que as mulheres têm menor crédito. Isso também pode ser um problema cultural que merece reflexão e revisão!"
      ],
      "metadata": {
        "id": "qN5VjHa9IcZF"
      }
    }
  ]
}